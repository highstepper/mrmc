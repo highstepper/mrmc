{
 "cells": [
  {
   "cell_type": "code",
   "execution_count": 12,
   "id": "ff2cf4a9",
   "metadata": {},
   "outputs": [
    {
     "data": {
      "text/html": [
       "<div>\n",
       "<style scoped>\n",
       "    .dataframe tbody tr th:only-of-type {\n",
       "        vertical-align: middle;\n",
       "    }\n",
       "\n",
       "    .dataframe tbody tr th {\n",
       "        vertical-align: top;\n",
       "    }\n",
       "\n",
       "    .dataframe thead th {\n",
       "        text-align: right;\n",
       "    }\n",
       "</style>\n",
       "<table border=\"1\" class=\"dataframe\">\n",
       "  <thead>\n",
       "    <tr style=\"text-align: right;\">\n",
       "      <th></th>\n",
       "      <th>date</th>\n",
       "      <th>gdp</th>\n",
       "      <th>consumption</th>\n",
       "      <th>invest</th>\n",
       "      <th>government</th>\n",
       "      <th>dpi</th>\n",
       "      <th>cpi</th>\n",
       "      <th>m1</th>\n",
       "      <th>tbill</th>\n",
       "      <th>unemp</th>\n",
       "      <th>population</th>\n",
       "      <th>inflation</th>\n",
       "      <th>interest</th>\n",
       "    </tr>\n",
       "  </thead>\n",
       "  <tbody>\n",
       "    <tr>\n",
       "      <th>0</th>\n",
       "      <td>1950 Q1</td>\n",
       "      <td>1610.5</td>\n",
       "      <td>1058.9</td>\n",
       "      <td>198.1</td>\n",
       "      <td>361.0</td>\n",
       "      <td>1186.1</td>\n",
       "      <td>70.6</td>\n",
       "      <td>110.20</td>\n",
       "      <td>1.12</td>\n",
       "      <td>6.4</td>\n",
       "      <td>149.461</td>\n",
       "      <td>NaN</td>\n",
       "      <td>NaN</td>\n",
       "    </tr>\n",
       "    <tr>\n",
       "      <th>1</th>\n",
       "      <td>1950 Q2</td>\n",
       "      <td>1658.8</td>\n",
       "      <td>1075.9</td>\n",
       "      <td>220.4</td>\n",
       "      <td>366.4</td>\n",
       "      <td>1178.1</td>\n",
       "      <td>71.4</td>\n",
       "      <td>111.75</td>\n",
       "      <td>1.17</td>\n",
       "      <td>5.6</td>\n",
       "      <td>150.260</td>\n",
       "      <td>4.5071</td>\n",
       "      <td>-3.3404</td>\n",
       "    </tr>\n",
       "    <tr>\n",
       "      <th>2</th>\n",
       "      <td>1950 Q3</td>\n",
       "      <td>1723.0</td>\n",
       "      <td>1131.0</td>\n",
       "      <td>239.7</td>\n",
       "      <td>359.6</td>\n",
       "      <td>1196.5</td>\n",
       "      <td>73.2</td>\n",
       "      <td>112.95</td>\n",
       "      <td>1.23</td>\n",
       "      <td>4.6</td>\n",
       "      <td>151.064</td>\n",
       "      <td>9.9590</td>\n",
       "      <td>-8.7290</td>\n",
       "    </tr>\n",
       "    <tr>\n",
       "      <th>3</th>\n",
       "      <td>1950 Q4</td>\n",
       "      <td>1753.9</td>\n",
       "      <td>1097.6</td>\n",
       "      <td>271.8</td>\n",
       "      <td>382.5</td>\n",
       "      <td>1210.0</td>\n",
       "      <td>74.9</td>\n",
       "      <td>113.93</td>\n",
       "      <td>1.35</td>\n",
       "      <td>4.2</td>\n",
       "      <td>151.871</td>\n",
       "      <td>9.1834</td>\n",
       "      <td>-7.8301</td>\n",
       "    </tr>\n",
       "    <tr>\n",
       "      <th>4</th>\n",
       "      <td>1951 Q1</td>\n",
       "      <td>1773.5</td>\n",
       "      <td>1122.8</td>\n",
       "      <td>242.9</td>\n",
       "      <td>421.9</td>\n",
       "      <td>1207.9</td>\n",
       "      <td>77.3</td>\n",
       "      <td>115.08</td>\n",
       "      <td>1.40</td>\n",
       "      <td>3.5</td>\n",
       "      <td>152.393</td>\n",
       "      <td>12.6160</td>\n",
       "      <td>-11.2160</td>\n",
       "    </tr>\n",
       "  </tbody>\n",
       "</table>\n",
       "</div>"
      ],
      "text/plain": [
       "      date     gdp  consumption  invest  government     dpi   cpi      m1  \\\n",
       "0  1950 Q1  1610.5       1058.9   198.1       361.0  1186.1  70.6  110.20   \n",
       "1  1950 Q2  1658.8       1075.9   220.4       366.4  1178.1  71.4  111.75   \n",
       "2  1950 Q3  1723.0       1131.0   239.7       359.6  1196.5  73.2  112.95   \n",
       "3  1950 Q4  1753.9       1097.6   271.8       382.5  1210.0  74.9  113.93   \n",
       "4  1951 Q1  1773.5       1122.8   242.9       421.9  1207.9  77.3  115.08   \n",
       "\n",
       "   tbill  unemp  population  inflation  interest  \n",
       "0   1.12    6.4     149.461        NaN       NaN  \n",
       "1   1.17    5.6     150.260     4.5071   -3.3404  \n",
       "2   1.23    4.6     151.064     9.9590   -8.7290  \n",
       "3   1.35    4.2     151.871     9.1834   -7.8301  \n",
       "4   1.40    3.5     152.393    12.6160  -11.2160  "
      ]
     },
     "execution_count": 12,
     "metadata": {},
     "output_type": "execute_result"
    }
   ],
   "source": [
    "import numpy as np\n",
    "import pandas as pd\n",
    "import matplotlib.pyplot as plt\n",
    "df = pd.read_csv(\"data.txt\", sep=\"|\")\n",
    "df.head()\n",
    "# By inspection of data.txt, the only NAs occur for inflation and interest in 1950 Q1\n",
    "# data.txt includes complete quarterly data from 1950 Q1 to 2000 Q4 \n",
    "# with all dates in order and with no missing quarters"
   ]
  },
  {
   "cell_type": "code",
   "execution_count": 30,
   "id": "d0e20f6f",
   "metadata": {},
   "outputs": [],
   "source": [
    "# Only consumption, dpi and unemp are required for this analysis\n",
    "# The rest can be dropped, including date labels\n",
    "# Regression is to be performed on differences of the macroeconomic data values\n",
    "dconsum = (df.consumption - df.consumption.shift())[1:]\n",
    "ddpi = (df.dpi - df.dpi.shift())[1:]\n",
    "dunemp = (df.unemp - df.unemp.shift())[1:]"
   ]
  },
  {
   "cell_type": "code",
   "execution_count": 34,
   "id": "c1e51462",
   "metadata": {},
   "outputs": [
    {
     "data": {
      "image/png": "[encoded data removed]",
      "text/plain": [
       "<Figure size 432x288 with 1 Axes>"
      ]
     },
     "metadata": {
      "needs_background": "light"
     },
     "output_type": "display_data"
    }
   ],
   "source": [
    "# visualize consumption vs dpi\n",
    "fig, ax = plt.subplots()\n",
    "ax.scatter(ddpi, dconsum)\n",
    "plt.show()"
   ]
  },
  {
   "cell_type": "code",
   "execution_count": 35,
   "id": "b3609512",
   "metadata": {},
   "outputs": [
    {
     "data": {
      "image/png": "[encoded data removed]",
      "text/plain": [
       "<Figure size 432x288 with 1 Axes>"
      ]
     },
     "metadata": {
      "needs_background": "light"
     },
     "output_type": "display_data"
    }
   ],
   "source": [
    "# visualize consumption vs unemployment\n",
    "fig, ax = plt.subplots()\n",
    "ax.scatter(dunemp, dconsum)\n",
    "plt.show()"
   ]
  },
  {
   "cell_type": "code",
   "execution_count": null,
   "id": "b599004a",
   "metadata": {},
   "outputs": [],
   "source": []
  }
 ],
 "metadata": {
  "kernelspec": {
   "display_name": "Python 3 (ipykernel)",
   "language": "python",
   "name": "python3"
  },
  "language_info": {
   "codemirror_mode": {
    "name": "ipython",
    "version": 3
   },
   "file_extension": ".py",
   "mimetype": "text/x-python",
   "name": "python",
   "nbconvert_exporter": "python",
   "pygments_lexer": "ipython3",
   "version": "3.9.7"
  }
 },
 "nbformat": 4,
 "nbformat_minor": 5
}
