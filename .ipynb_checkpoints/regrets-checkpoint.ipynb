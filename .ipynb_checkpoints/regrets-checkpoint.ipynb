{
 "cells": [
  {
   "cell_type": "code",
   "execution_count": 1,
   "id": "5edc5d0b",
   "metadata": {},
   "outputs": [
    {
     "data": {
      "text/html": [
       "<div>\n",
       "<style scoped>\n",
       "    .dataframe tbody tr th:only-of-type {\n",
       "        vertical-align: middle;\n",
       "    }\n",
       "\n",
       "    .dataframe tbody tr th {\n",
       "        vertical-align: top;\n",
       "    }\n",
       "\n",
       "    .dataframe thead th {\n",
       "        text-align: right;\n",
       "    }\n",
       "</style>\n",
       "<table border=\"1\" class=\"dataframe\">\n",
       "  <thead>\n",
       "    <tr style=\"text-align: right;\">\n",
       "      <th></th>\n",
       "      <th>date</th>\n",
       "      <th>gdp</th>\n",
       "      <th>consumption</th>\n",
       "      <th>invest</th>\n",
       "      <th>government</th>\n",
       "      <th>dpi</th>\n",
       "      <th>cpi</th>\n",
       "      <th>m1</th>\n",
       "      <th>tbill</th>\n",
       "      <th>unemp</th>\n",
       "      <th>population</th>\n",
       "      <th>inflation</th>\n",
       "      <th>interest</th>\n",
       "    </tr>\n",
       "  </thead>\n",
       "  <tbody>\n",
       "    <tr>\n",
       "      <th>0</th>\n",
       "      <td>1950 Q1</td>\n",
       "      <td>1610.5</td>\n",
       "      <td>1058.9</td>\n",
       "      <td>198.1</td>\n",
       "      <td>361.0</td>\n",
       "      <td>1186.1</td>\n",
       "      <td>70.6</td>\n",
       "      <td>110.20</td>\n",
       "      <td>1.12</td>\n",
       "      <td>6.4</td>\n",
       "      <td>149.461</td>\n",
       "      <td>NaN</td>\n",
       "      <td>NaN</td>\n",
       "    </tr>\n",
       "    <tr>\n",
       "      <th>1</th>\n",
       "      <td>1950 Q2</td>\n",
       "      <td>1658.8</td>\n",
       "      <td>1075.9</td>\n",
       "      <td>220.4</td>\n",
       "      <td>366.4</td>\n",
       "      <td>1178.1</td>\n",
       "      <td>71.4</td>\n",
       "      <td>111.75</td>\n",
       "      <td>1.17</td>\n",
       "      <td>5.6</td>\n",
       "      <td>150.260</td>\n",
       "      <td>4.5071</td>\n",
       "      <td>-3.3404</td>\n",
       "    </tr>\n",
       "    <tr>\n",
       "      <th>2</th>\n",
       "      <td>1950 Q3</td>\n",
       "      <td>1723.0</td>\n",
       "      <td>1131.0</td>\n",
       "      <td>239.7</td>\n",
       "      <td>359.6</td>\n",
       "      <td>1196.5</td>\n",
       "      <td>73.2</td>\n",
       "      <td>112.95</td>\n",
       "      <td>1.23</td>\n",
       "      <td>4.6</td>\n",
       "      <td>151.064</td>\n",
       "      <td>9.9590</td>\n",
       "      <td>-8.7290</td>\n",
       "    </tr>\n",
       "    <tr>\n",
       "      <th>3</th>\n",
       "      <td>1950 Q4</td>\n",
       "      <td>1753.9</td>\n",
       "      <td>1097.6</td>\n",
       "      <td>271.8</td>\n",
       "      <td>382.5</td>\n",
       "      <td>1210.0</td>\n",
       "      <td>74.9</td>\n",
       "      <td>113.93</td>\n",
       "      <td>1.35</td>\n",
       "      <td>4.2</td>\n",
       "      <td>151.871</td>\n",
       "      <td>9.1834</td>\n",
       "      <td>-7.8301</td>\n",
       "    </tr>\n",
       "    <tr>\n",
       "      <th>4</th>\n",
       "      <td>1951 Q1</td>\n",
       "      <td>1773.5</td>\n",
       "      <td>1122.8</td>\n",
       "      <td>242.9</td>\n",
       "      <td>421.9</td>\n",
       "      <td>1207.9</td>\n",
       "      <td>77.3</td>\n",
       "      <td>115.08</td>\n",
       "      <td>1.40</td>\n",
       "      <td>3.5</td>\n",
       "      <td>152.393</td>\n",
       "      <td>12.6160</td>\n",
       "      <td>-11.2160</td>\n",
       "    </tr>\n",
       "  </tbody>\n",
       "</table>\n",
       "</div>"
      ],
      "text/plain": [
       "      date     gdp  consumption  invest  government     dpi   cpi      m1  \\\n",
       "0  1950 Q1  1610.5       1058.9   198.1       361.0  1186.1  70.6  110.20   \n",
       "1  1950 Q2  1658.8       1075.9   220.4       366.4  1178.1  71.4  111.75   \n",
       "2  1950 Q3  1723.0       1131.0   239.7       359.6  1196.5  73.2  112.95   \n",
       "3  1950 Q4  1753.9       1097.6   271.8       382.5  1210.0  74.9  113.93   \n",
       "4  1951 Q1  1773.5       1122.8   242.9       421.9  1207.9  77.3  115.08   \n",
       "\n",
       "   tbill  unemp  population  inflation  interest  \n",
       "0   1.12    6.4     149.461        NaN       NaN  \n",
       "1   1.17    5.6     150.260     4.5071   -3.3404  \n",
       "2   1.23    4.6     151.064     9.9590   -8.7290  \n",
       "3   1.35    4.2     151.871     9.1834   -7.8301  \n",
       "4   1.40    3.5     152.393    12.6160  -11.2160  "
      ]
     },
     "execution_count": 1,
     "metadata": {},
     "output_type": "execute_result"
    }
   ],
   "source": [
    "import math\n",
    "import numpy as np\n",
    "import pandas as pd\n",
    "import matplotlib.pyplot as plt\n",
    "import statsmodels.api as sm\n",
    "import statsmodels.stats.api as sms\n",
    "\n",
    "df = pd.read_csv(\"data.txt\", sep=\"|\")\n",
    "df.head()\n",
    "# By inspection of data.txt, the only NAs occur for inflation and interest in 1950 Q1\n",
    "# data.txt includes complete quarterly data from 1950 Q1 to 2000 Q4 \n",
    "# with all dates in order and with no missing quarters"
   ]
  },
  {
   "cell_type": "code",
   "execution_count": 2,
   "id": "386eb2c8",
   "metadata": {},
   "outputs": [],
   "source": [
    "# Only consumption, dpi and unemp are required for this analysis\n",
    "# The rest can be dropped, including date labels\n",
    "# Regression is to be performed on percent changes of the macroeconomic data values\n",
    "dconsum = (df.consumption.pct_change())[1:]  # percent changes with leading NaNs removed\n",
    "ddpi = (df.dpi.pct_change())[1:]\n",
    "dunemp = (df.unemp.pct_change())[1:]"
   ]
  },
  {
   "cell_type": "code",
   "execution_count": 3,
   "id": "52124ea5",
   "metadata": {},
   "outputs": [
    {
     "data": {
      "image/png": "[encoded data removed]",
      "text/plain": [
       "<Figure size 432x288 with 1 Axes>"
      ]
     },
     "metadata": {
      "needs_background": "light"
     },
     "output_type": "display_data"
    }
   ],
   "source": [
    "# Visualize consumption vs dpi\n",
    "fig, ax = plt.subplots()\n",
    "ax.scatter(ddpi, dconsum)\n",
    "plt.show()\n",
    "# A positive correlation is observed"
   ]
  },
  {
   "cell_type": "code",
   "execution_count": 4,
   "id": "66eec2c0",
   "metadata": {},
   "outputs": [
    {
     "data": {
      "image/png": "[encoded data removed]",
      "text/plain": [
       "<Figure size 432x288 with 1 Axes>"
      ]
     },
     "metadata": {
      "needs_background": "light"
     },
     "output_type": "display_data"
    }
   ],
   "source": [
    "# Visualize consumption vs unemployment\n",
    "fig, ax = plt.subplots()\n",
    "ax.scatter(dunemp, dconsum)\n",
    "plt.show()\n",
    "# A slight negative correlation can be inferred"
   ]
  },
  {
   "cell_type": "code",
   "execution_count": 5,
   "id": "10d058eb",
   "metadata": {},
   "outputs": [],
   "source": [
    "# Task 1: Replication of Results \n",
    "y = pd.DataFrame(dconsum)\n",
    "X = pd.DataFrame(ddpi)\n",
    "X['unemp'] = dunemp\n"
   ]
  },
  {
   "cell_type": "code",
   "execution_count": 6,
   "id": "cc3fa58f",
   "metadata": {
    "scrolled": true
   },
   "outputs": [
    {
     "name": "stderr",
     "output_type": "stream",
     "text": [
      "/opt/anaconda3/lib/python3.9/site-packages/statsmodels/tsa/tsatools.py:142: FutureWarning: In a future version of pandas all arguments of concat except for the argument 'objs' will be keyword-only\n",
      "  x = pd.concat(x[::order], 1)\n"
     ]
    },
    {
     "data": {
      "text/html": [
       "<table class=\"simpletable\">\n",
       "<caption>OLS Regression Results</caption>\n",
       "<tr>\n",
       "  <th>Dep. Variable:</th>       <td>consumption</td>   <th>  R-squared:         </th> <td>   0.291</td>\n",
       "</tr>\n",
       "<tr>\n",
       "  <th>Model:</th>                   <td>OLS</td>       <th>  Adj. R-squared:    </th> <td>   0.284</td>\n",
       "</tr>\n",
       "<tr>\n",
       "  <th>Method:</th>             <td>Least Squares</td>  <th>  F-statistic:       </th> <td>   41.11</td>\n",
       "</tr>\n",
       "<tr>\n",
       "  <th>Date:</th>             <td>Fri, 15 Jul 2022</td> <th>  Prob (F-statistic):</th> <td>1.10e-15</td>\n",
       "</tr>\n",
       "<tr>\n",
       "  <th>Time:</th>                 <td>18:44:09</td>     <th>  Log-Likelihood:    </th> <td>  705.58</td>\n",
       "</tr>\n",
       "<tr>\n",
       "  <th>No. Observations:</th>      <td>   203</td>      <th>  AIC:               </th> <td>  -1405.</td>\n",
       "</tr>\n",
       "<tr>\n",
       "  <th>Df Residuals:</th>          <td>   200</td>      <th>  BIC:               </th> <td>  -1395.</td>\n",
       "</tr>\n",
       "<tr>\n",
       "  <th>Df Model:</th>              <td>     2</td>      <th>                     </th>     <td> </td>   \n",
       "</tr>\n",
       "<tr>\n",
       "  <th>Covariance Type:</th>      <td>nonrobust</td>    <th>                     </th>     <td> </td>   \n",
       "</tr>\n",
       "</table>\n",
       "<table class=\"simpletable\">\n",
       "<tr>\n",
       "    <td></td>       <th>coef</th>     <th>std err</th>      <th>t</th>      <th>P>|t|</th>  <th>[0.025</th>    <th>0.975]</th>  \n",
       "</tr>\n",
       "<tr>\n",
       "  <th>const</th> <td>    0.0062</td> <td>    0.001</td> <td>    8.099</td> <td> 0.000</td> <td>    0.005</td> <td>    0.008</td>\n",
       "</tr>\n",
       "<tr>\n",
       "  <th>dpi</th>   <td>    0.3176</td> <td>    0.064</td> <td>    4.934</td> <td> 0.000</td> <td>    0.191</td> <td>    0.444</td>\n",
       "</tr>\n",
       "<tr>\n",
       "  <th>unemp</th> <td>   -0.0399</td> <td>    0.008</td> <td>   -5.323</td> <td> 0.000</td> <td>   -0.055</td> <td>   -0.025</td>\n",
       "</tr>\n",
       "</table>\n",
       "<table class=\"simpletable\">\n",
       "<tr>\n",
       "  <th>Omnibus:</th>       <td>89.203</td> <th>  Durbin-Watson:     </th> <td>   2.469</td> \n",
       "</tr>\n",
       "<tr>\n",
       "  <th>Prob(Omnibus):</th> <td> 0.000</td> <th>  Jarque-Bera (JB):  </th> <td>1037.771</td> \n",
       "</tr>\n",
       "<tr>\n",
       "  <th>Skew:</th>          <td>-1.315</td> <th>  Prob(JB):          </th> <td>4.48e-226</td>\n",
       "</tr>\n",
       "<tr>\n",
       "  <th>Kurtosis:</th>      <td>13.760</td> <th>  Cond. No.          </th> <td>    122.</td> \n",
       "</tr>\n",
       "</table><br/><br/>Notes:<br/>[1] Standard Errors assume that the covariance matrix of the errors is correctly specified."
      ],
      "text/plain": [
       "<class 'statsmodels.iolib.summary.Summary'>\n",
       "\"\"\"\n",
       "                            OLS Regression Results                            \n",
       "==============================================================================\n",
       "Dep. Variable:            consumption   R-squared:                       0.291\n",
       "Model:                            OLS   Adj. R-squared:                  0.284\n",
       "Method:                 Least Squares   F-statistic:                     41.11\n",
       "Date:                Fri, 15 Jul 2022   Prob (F-statistic):           1.10e-15\n",
       "Time:                        18:44:09   Log-Likelihood:                 705.58\n",
       "No. Observations:                 203   AIC:                            -1405.\n",
       "Df Residuals:                     200   BIC:                            -1395.\n",
       "Df Model:                           2                                         \n",
       "Covariance Type:            nonrobust                                         \n",
       "==============================================================================\n",
       "                 coef    std err          t      P>|t|      [0.025      0.975]\n",
       "------------------------------------------------------------------------------\n",
       "const          0.0062      0.001      8.099      0.000       0.005       0.008\n",
       "dpi            0.3176      0.064      4.934      0.000       0.191       0.444\n",
       "unemp         -0.0399      0.008     -5.323      0.000      -0.055      -0.025\n",
       "==============================================================================\n",
       "Omnibus:                       89.203   Durbin-Watson:                   2.469\n",
       "Prob(Omnibus):                  0.000   Jarque-Bera (JB):             1037.771\n",
       "Skew:                          -1.315   Prob(JB):                    4.48e-226\n",
       "Kurtosis:                      13.760   Cond. No.                         122.\n",
       "==============================================================================\n",
       "\n",
       "Notes:\n",
       "[1] Standard Errors assume that the covariance matrix of the errors is correctly specified.\n",
       "\"\"\""
      ]
     },
     "execution_count": 6,
     "metadata": {},
     "output_type": "execute_result"
    }
   ],
   "source": [
    "# Set up regression inputs for statmodels.api\n",
    "X = sm.add_constant(X)  # Add an intercept (beta_0) to the model\n",
    "model = sm.OLS(y, X).fit()\n",
    "\n",
    "# Print out the statistics\n",
    "model.summary()\n",
    "\n",
    "# Note that regression coefficients, standard errors, t-statistics, and p-values \n",
    "# match given values from the coding exercise.\n",
    "# The R-squared result of 33.5% does not indicate an accurate regression."
   ]
  },
  {
   "cell_type": "code",
   "execution_count": 7,
   "id": "e8e56315",
   "metadata": {},
   "outputs": [],
   "source": [
    "# Conclusions for Task 1: \n",
    "# Small p values indicate statistic significance for dpi and unemp independent variables\n",
    "# Regression accuracy evaluation: Accuracy is low as indicated by the 29.1% R-squared"
   ]
  },
  {
   "cell_type": "code",
   "execution_count": 8,
   "id": "7cff30a5",
   "metadata": {},
   "outputs": [
    {
     "data": {
      "image/png": "[encoded data removed]",
      "text/plain": [
       "<Figure size 432x288 with 1 Axes>"
      ]
     },
     "metadata": {
      "needs_background": "light"
     },
     "output_type": "display_data"
    }
   ],
   "source": [
    "# Task 2: Outlier Detections\n",
    "# Examine the time series of residuals\n",
    "actuals = np.array(y).ravel()               # actuals as numpy array\n",
    "predictions = np.array( model.predict(X) )  # model predictions as numpy array\n",
    "residuals = (actuals - predictions)\n",
    "\n",
    "# Plot the residuals time series\n",
    "fig, ax = plt.subplots()\n",
    "ax.plot(residuals)\n",
    "plt.show()"
   ]
  },
  {
   "cell_type": "code",
   "execution_count": 9,
   "id": "e7d37bcf",
   "metadata": {},
   "outputs": [
    {
     "name": "stdout",
     "output_type": "stream",
     "text": [
      "-0.0037726254742414846 -0.00010900747153462856 0.004023615554931866 0.00779624102917335 -0.01546698701800151 0.01571797709869189\n"
     ]
    }
   ],
   "source": [
    "# Use Tukeys test\n",
    "Q1 = np.percentile(residuals, 25, interpolation = 'midpoint')  # First quartile (Q1)\n",
    "Q2 = np.percentile(residuals, 50, interpolation = 'midpoint')  # Median (Q2)\n",
    "Q3 = np.percentile(residuals, 75, interpolation = 'midpoint')  # Third quartile (Q3)\n",
    "IQR = Q3 - Q1  # Interquaritle range (IQR)\n",
    "Tlower = Q1 - 1.5*IQR  # Tukey lower bound\n",
    "Tupper = Q3 + 1.5*IQR  # Tukey upper bound\n",
    "print(Q1, Q2, Q3, IQR, Tlower, Tupper)"
   ]
  },
  {
   "cell_type": "code",
   "execution_count": 10,
   "id": "9623723c",
   "metadata": {},
   "outputs": [
    {
     "name": "stdout",
     "output_type": "stream",
     "text": [
      "3 2 203\n"
     ]
    }
   ],
   "source": [
    "# Counts of outliers\n",
    "r = np.array(residuals)  # Use numpy array for count functionality\n",
    "l = np.count_nonzero(r < Tlower)  # Count of lower outliers\n",
    "u = np.count_nonzero(r > Tupper)  # Count of upper outliers\n",
    "n = len(r)  # number of elements in the dataset\n",
    "print(l, u, n)"
   ]
  },
  {
   "cell_type": "code",
   "execution_count": 11,
   "id": "efddc419",
   "metadata": {},
   "outputs": [],
   "source": [
    "# Conclusions for Task 2\n",
    "# There are 12 outliers in the dataset with 203 elements, representing 6% of the data\n",
    "# This number of outliers is quite high.\n",
    "# There are 3x outliers on the upper side vs lower: 9 upper vs 3 lower.\n",
    "# Observing the residual timeseries plot above, \n",
    "# the upper outliers happen in the later half of the time series.\n",
    "# This imbalance implies a bias which invalidates the regression results.\n",
    "# One cause of this bias is that consumption and dpi figures increase exponentially \n",
    "# over the 50 year period, and so differences between quarters grow over time.\n",
    "# It may be more appropriate to do the analysis with log returns or percent changes\n",
    "# rather than differences, in order to remove this bias.\n",
    "# And indeed, when the same data is fitted with percent changes instead of differences,\n",
    "# no outliers are observed in the later half of the data (refer to regreturns.ipynb)."
   ]
  },
  {
   "cell_type": "code",
   "execution_count": 12,
   "id": "112d0c3a",
   "metadata": {},
   "outputs": [
    {
     "name": "stdout",
     "output_type": "stream",
     "text": [
      "2.469258118798539\n"
     ]
    }
   ],
   "source": [
    "# Test 3: Autocorrelation of Residuals\n",
    "# Calculate the Durbin-Watson (DW) statistic of the residuals\n",
    "# Verify Durbin-Watson value of 2.469 from the statsmodels summary above.\n",
    "\n",
    "# Quarterly differences of residuals\n",
    "dresiduals = (pd.DataFrame(residuals).diff())[1:]\n",
    "\n",
    "ssd = (dresiduals**2).sum()  # Sum of squares of residual differences\n",
    "ssr = (residuals**2).sum()   # Sum of the squared residuals\n",
    "\n",
    "# DW statistic\n",
    "DW = float( ssd / ssr )\n",
    "print(DW)"
   ]
  },
  {
   "cell_type": "code",
   "execution_count": 13,
   "id": "94f02d43",
   "metadata": {},
   "outputs": [],
   "source": [
    "# Conclusions for Test 3\n",
    "# The statsmodel DW figure was verified by the above calculation\n",
    "# The value of 2.469 is above 2, which indicates negative autocorrelation.\n",
    "# However, values between 1.5 and 2.5 are considered acceptable.\n",
    "# Therefore, autocorrelation in the residuals does not lead to significant\n",
    "# undervaluation of the standard error in this analysis."
   ]
  },
  {
   "cell_type": "code",
   "execution_count": 14,
   "id": "9478fdfb",
   "metadata": {},
   "outputs": [
    {
     "name": "stdout",
     "output_type": "stream",
     "text": [
      "0.0643610603296314 0.007500107704377097\n"
     ]
    }
   ],
   "source": [
    "# Task 4: Bootstapping of Standard Errors\n",
    "# Recalculate the standard errors of the regression coefficients using bootstrapping.\n",
    "# Note that statsmodels standard errors of coefficients are given by model.bse\n",
    "# The default coefficient standard errors are given by:\n",
    "se_dpi_def = model.bse['dpi']\n",
    "se_unemp_def = model.bse['unemp']\n",
    "print(se_dpi_def, se_unemp_def)\n",
    "# As expected, these are the same figures shown in the statsmodels summary table"
   ]
  },
  {
   "cell_type": "code",
   "execution_count": 15,
   "id": "31640cd8",
   "metadata": {
    "scrolled": true
   },
   "outputs": [],
   "source": [
    "# Generate bootstrap samples and calculate standard errors of the coefficients\n",
    "from sklearn.utils import resample\n",
    "n_bootstraps = 10000\n",
    "\n",
    "# initialire output arrays\n",
    "se_dpi = []    # standard error of the dpi coefficient\n",
    "se_unemp = []  # standard error of the unemployment coefficient\n",
    "\n",
    "for _ in range(n_bootstraps):\n",
    "    ys, Xs = resample(y, X, replace=True)\n",
    "    bmodel = sm.OLS(ys, Xs).fit()\n",
    "    \n",
    "    # Append standard errors to output arrays\n",
    "    se_dpi.append( bmodel.bse['dpi'] )       \n",
    "    se_unemp.append( bmodel.bse['unemp'] )   \n",
    "    \n",
    "se_dpi = np.array(se_dpi)      # Use numpy array for stats functionality\n",
    "se_unemp = np.array(se_unemp)  "
   ]
  },
  {
   "cell_type": "code",
   "execution_count": 16,
   "id": "f43c5b75",
   "metadata": {},
   "outputs": [],
   "source": [
    "# Compare the bootstrapped standard errors to the default standard errors. \n",
    "# What differences can be observed? What are the implications?\n",
    "\n",
    "# According to Michael Grogan, https://medium.com/p/b112bb4a969e, \"a primary use of \n",
    "# bootstrapping is to estimate the confidence interval of the population mean.\"\n",
    "# Statsmodels documentation provides the following for calculating the 95th confidence interval\n",
    "# sms.DescrStatsW(samples).tconfint_mean()\n",
    "# If the default standard errors fall outside of this confidence interval,\n",
    "\n"
   ]
  },
  {
   "cell_type": "code",
   "execution_count": 17,
   "id": "56f638c9",
   "metadata": {},
   "outputs": [
    {
     "name": "stdout",
     "output_type": "stream",
     "text": [
      "0.0643610603296314 0.06406205556171984 0.06425412962957153 0.06444620369742318\n"
     ]
    },
    {
     "data": {
      "image/png": "[encoded data removed]",
      "text/plain": [
       "<Figure size 432x288 with 1 Axes>"
      ]
     },
     "metadata": {
      "needs_background": "light"
     },
     "output_type": "display_data"
    }
   ],
   "source": [
    "# DPI coefficient - Summary and histogram of bootstrapped standard errors \n",
    "\n",
    "def_se = se_dpi_def      # default standard error from the original regression\n",
    "mean_se = se_dpi.mean()  # mean of bootstrapped standard errors\n",
    "lconf, uconf = sms.DescrStatsW(se_dpi).tconfint_mean()  #lower and upper confidence levels\n",
    "\n",
    "# Print the default, lower confidence level, mean and upper confidence level\n",
    "print(def_se, lconf, mean_se, uconf)\n",
    "\n",
    "# Histogram the bootstrapped standard errors\n",
    "fig, ax = plt.subplots()\n",
    "ax.hist(se_dpi)\n",
    "plt.show()"
   ]
  },
  {
   "cell_type": "code",
   "execution_count": 18,
   "id": "38b76892",
   "metadata": {},
   "outputs": [
    {
     "name": "stdout",
     "output_type": "stream",
     "text": [
      "0.007500107704377097 0.007510788110364248 0.007534487229536974 0.007558186348709696\n"
     ]
    },
    {
     "data": {
      "image/png": "[encoded data removed]",
      "text/plain": [
       "<Figure size 432x288 with 1 Axes>"
      ]
     },
     "metadata": {
      "needs_background": "light"
     },
     "output_type": "display_data"
    }
   ],
   "source": [
    "# Unemployment coefficient - Summary and histogram of bootstrapped standard errors \n",
    "\n",
    "def_se = se_unemp_def      # default standard error from the original regression\n",
    "mean_se = se_unemp.mean()  # mean of bootstrapped standard errors\n",
    "lconf, uconf = sms.DescrStatsW(se_unemp).tconfint_mean()\n",
    "\n",
    "# Print the default, lower confidence level, mean and upper confidence level\n",
    "print(def_se, lconf, mean_se, uconf)\n",
    "\n",
    "# Histogram the bootstrapped standard errors\n",
    "fig, ax = plt.subplots()\n",
    "ax.hist(se_unemp)\n",
    "plt.show()"
   ]
  },
  {
   "cell_type": "code",
   "execution_count": 19,
   "id": "2344aa7a",
   "metadata": {},
   "outputs": [],
   "source": [
    "# Conclusions for Task 4\n",
    "\n",
    "# According to the Central Limit theorem, these distributions are expected to tend to normals\n",
    "# as the sample size increases, and indeed these distributions appear normal.\n",
    "\n",
    "# For DPI, the default coefficient standard error falls within the 95th confidence\n",
    "# of the bootstapped standard errors.\n",
    "# For Unemployment, the default coefficient standard error is smaller than \n",
    "# the mean of the bootstapped standard errors, and even falls below the 95th confidence\n",
    "# intervals for this measure.  This implies that the variability of this coefficient\n",
    "# is higher than estimated by the model.\n",
    "# A bias or lack of variance explanation may be implied by this result,\n",
    "# but these default standard errors are well within a standard deviation of the means\n",
    "# of the bootstrapped standard errors, and so no real significance can be attached to \n",
    "# these observations. Therefore the conclusion is that no significant issues\n",
    "# have been identified by this bootstrap analysis."
   ]
  }
 ],
 "metadata": {
  "kernelspec": {
   "display_name": "Python 3 (ipykernel)",
   "language": "python",
   "name": "python3"
  },
  "language_info": {
   "codemirror_mode": {
    "name": "ipython",
    "version": 3
   },
   "file_extension": ".py",
   "mimetype": "text/x-python",
   "name": "python",
   "nbconvert_exporter": "python",
   "pygments_lexer": "ipython3",
   "version": "3.9.7"
  }
 },
 "nbformat": 4,
 "nbformat_minor": 5
}
