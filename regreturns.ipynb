{
 "cells": [
  {
   "cell_type": "code",
   "execution_count": 48,
   "id": "5edc5d0b",
   "metadata": {},
   "outputs": [
    {
     "data": {
      "text/html": [
       "<div>\n",
       "<style scoped>\n",
       "    .dataframe tbody tr th:only-of-type {\n",
       "        vertical-align: middle;\n",
       "    }\n",
       "\n",
       "    .dataframe tbody tr th {\n",
       "        vertical-align: top;\n",
       "    }\n",
       "\n",
       "    .dataframe thead th {\n",
       "        text-align: right;\n",
       "    }\n",
       "</style>\n",
       "<table border=\"1\" class=\"dataframe\">\n",
       "  <thead>\n",
       "    <tr style=\"text-align: right;\">\n",
       "      <th></th>\n",
       "      <th>date</th>\n",
       "      <th>gdp</th>\n",
       "      <th>consumption</th>\n",
       "      <th>invest</th>\n",
       "      <th>government</th>\n",
       "      <th>dpi</th>\n",
       "      <th>cpi</th>\n",
       "      <th>m1</th>\n",
       "      <th>tbill</th>\n",
       "      <th>unemp</th>\n",
       "      <th>population</th>\n",
       "      <th>inflation</th>\n",
       "      <th>interest</th>\n",
       "    </tr>\n",
       "  </thead>\n",
       "  <tbody>\n",
       "    <tr>\n",
       "      <th>0</th>\n",
       "      <td>1950 Q1</td>\n",
       "      <td>1610.5</td>\n",
       "      <td>1058.9</td>\n",
       "      <td>198.1</td>\n",
       "      <td>361.0</td>\n",
       "      <td>1186.1</td>\n",
       "      <td>70.6</td>\n",
       "      <td>110.20</td>\n",
       "      <td>1.12</td>\n",
       "      <td>6.4</td>\n",
       "      <td>149.461</td>\n",
       "      <td>NaN</td>\n",
       "      <td>NaN</td>\n",
       "    </tr>\n",
       "    <tr>\n",
       "      <th>1</th>\n",
       "      <td>1950 Q2</td>\n",
       "      <td>1658.8</td>\n",
       "      <td>1075.9</td>\n",
       "      <td>220.4</td>\n",
       "      <td>366.4</td>\n",
       "      <td>1178.1</td>\n",
       "      <td>71.4</td>\n",
       "      <td>111.75</td>\n",
       "      <td>1.17</td>\n",
       "      <td>5.6</td>\n",
       "      <td>150.260</td>\n",
       "      <td>4.5071</td>\n",
       "      <td>-3.3404</td>\n",
       "    </tr>\n",
       "    <tr>\n",
       "      <th>2</th>\n",
       "      <td>1950 Q3</td>\n",
       "      <td>1723.0</td>\n",
       "      <td>1131.0</td>\n",
       "      <td>239.7</td>\n",
       "      <td>359.6</td>\n",
       "      <td>1196.5</td>\n",
       "      <td>73.2</td>\n",
       "      <td>112.95</td>\n",
       "      <td>1.23</td>\n",
       "      <td>4.6</td>\n",
       "      <td>151.064</td>\n",
       "      <td>9.9590</td>\n",
       "      <td>-8.7290</td>\n",
       "    </tr>\n",
       "    <tr>\n",
       "      <th>3</th>\n",
       "      <td>1950 Q4</td>\n",
       "      <td>1753.9</td>\n",
       "      <td>1097.6</td>\n",
       "      <td>271.8</td>\n",
       "      <td>382.5</td>\n",
       "      <td>1210.0</td>\n",
       "      <td>74.9</td>\n",
       "      <td>113.93</td>\n",
       "      <td>1.35</td>\n",
       "      <td>4.2</td>\n",
       "      <td>151.871</td>\n",
       "      <td>9.1834</td>\n",
       "      <td>-7.8301</td>\n",
       "    </tr>\n",
       "    <tr>\n",
       "      <th>4</th>\n",
       "      <td>1951 Q1</td>\n",
       "      <td>1773.5</td>\n",
       "      <td>1122.8</td>\n",
       "      <td>242.9</td>\n",
       "      <td>421.9</td>\n",
       "      <td>1207.9</td>\n",
       "      <td>77.3</td>\n",
       "      <td>115.08</td>\n",
       "      <td>1.40</td>\n",
       "      <td>3.5</td>\n",
       "      <td>152.393</td>\n",
       "      <td>12.6160</td>\n",
       "      <td>-11.2160</td>\n",
       "    </tr>\n",
       "  </tbody>\n",
       "</table>\n",
       "</div>"
      ],
      "text/plain": [
       "      date     gdp  consumption  invest  government     dpi   cpi      m1  \\\n",
       "0  1950 Q1  1610.5       1058.9   198.1       361.0  1186.1  70.6  110.20   \n",
       "1  1950 Q2  1658.8       1075.9   220.4       366.4  1178.1  71.4  111.75   \n",
       "2  1950 Q3  1723.0       1131.0   239.7       359.6  1196.5  73.2  112.95   \n",
       "3  1950 Q4  1753.9       1097.6   271.8       382.5  1210.0  74.9  113.93   \n",
       "4  1951 Q1  1773.5       1122.8   242.9       421.9  1207.9  77.3  115.08   \n",
       "\n",
       "   tbill  unemp  population  inflation  interest  \n",
       "0   1.12    6.4     149.461        NaN       NaN  \n",
       "1   1.17    5.6     150.260     4.5071   -3.3404  \n",
       "2   1.23    4.6     151.064     9.9590   -8.7290  \n",
       "3   1.35    4.2     151.871     9.1834   -7.8301  \n",
       "4   1.40    3.5     152.393    12.6160  -11.2160  "
      ]
     },
     "execution_count": 48,
     "metadata": {},
     "output_type": "execute_result"
    }
   ],
   "source": [
    "import math\n",
    "import numpy as np\n",
    "import pandas as pd\n",
    "import matplotlib.pyplot as plt\n",
    "import statsmodels.api as sm\n",
    "import statsmodels.stats.api as sms\n",
    "from sklearn.linear_model import LinearRegression\n",
    "\n",
    "df = pd.read_csv(\"data.txt\", sep=\"|\")\n",
    "df.head()\n",
    "# By inspection of data.txt, the only NAs occur for inflation and interest in 1950 Q1\n",
    "# data.txt includes complete quarterly data from 1950 Q1 to 2000 Q4 \n",
    "# with all dates in order and with no missing quarters"
   ]
  },
  {
   "cell_type": "code",
   "execution_count": 64,
   "id": "386eb2c8",
   "metadata": {},
   "outputs": [
    {
     "data": {
      "text/plain": [
       "1   -0.006745\n",
       "2    0.015618\n",
       "3    0.011283\n",
       "4   -0.001736\n",
       "5    0.014819\n",
       "Name: dpi, dtype: float64"
      ]
     },
     "execution_count": 64,
     "metadata": {},
     "output_type": "execute_result"
    }
   ],
   "source": [
    "# Only consumption, dpi and unemp are required for this analysis\n",
    "# The rest can be dropped, including date labels\n",
    "# Regression is to be performed on differences of the macroeconomic data values\n",
    "dconsum = (df.consumption.pct_change())[1:]  # percent changes with leading NaNs removed\n",
    "ddpi = (df.dpi.pct_change())[1:]\n",
    "dunemp = (df.unemp.pct_change())[1:]\n",
    "ddpi.head()"
   ]
  },
  {
   "cell_type": "code",
   "execution_count": 65,
   "id": "52124ea5",
   "metadata": {},
   "outputs": [
    {
     "data": {
      "image/png": "[encoded data removed]",
      "text/plain": [
       "<Figure size 432x288 with 1 Axes>"
      ]
     },
     "metadata": {
      "needs_background": "light"
     },
     "output_type": "display_data"
    }
   ],
   "source": [
    "# Visualize consumption vs dpi\n",
    "fig, ax = plt.subplots()\n",
    "ax.scatter(ddpi, dconsum)\n",
    "plt.show()\n",
    "# A positive correlation is observed"
   ]
  },
  {
   "cell_type": "code",
   "execution_count": 66,
   "id": "66eec2c0",
   "metadata": {},
   "outputs": [
    {
     "data": {
      "image/png": "[encoded data removed]",
      "text/plain": [
       "<Figure size 432x288 with 1 Axes>"
      ]
     },
     "metadata": {
      "needs_background": "light"
     },
     "output_type": "display_data"
    }
   ],
   "source": [
    "# Visualize consumption vs unemployment\n",
    "fig, ax = plt.subplots()\n",
    "ax.scatter(dunemp, dconsum)\n",
    "plt.show()\n",
    "# A slight negative correlation can be inferred"
   ]
  },
  {
   "cell_type": "code",
   "execution_count": 67,
   "id": "10d058eb",
   "metadata": {},
   "outputs": [],
   "source": [
    "# Task 1: Replication of Results \n",
    "# Set up regression inputs for statmodels.api\n",
    "y = pd.DataFrame(dconsum)\n",
    "X = pd.DataFrame(ddpi)\n",
    "X['unemp'] = dunemp\n",
    "X = sm.add_constant(X) ## Add an intercept (beta_0) to the model\n"
   ]
  },
  {
   "cell_type": "code",
   "execution_count": 68,
   "id": "cc3fa58f",
   "metadata": {
    "scrolled": true
   },
   "outputs": [
    {
     "data": {
      "text/html": [
       "<table class=\"simpletable\">\n",
       "<caption>OLS Regression Results</caption>\n",
       "<tr>\n",
       "  <th>Dep. Variable:</th>       <td>consumption</td>   <th>  R-squared:         </th> <td>   0.291</td>\n",
       "</tr>\n",
       "<tr>\n",
       "  <th>Model:</th>                   <td>OLS</td>       <th>  Adj. R-squared:    </th> <td>   0.284</td>\n",
       "</tr>\n",
       "<tr>\n",
       "  <th>Method:</th>             <td>Least Squares</td>  <th>  F-statistic:       </th> <td>   41.11</td>\n",
       "</tr>\n",
       "<tr>\n",
       "  <th>Date:</th>             <td>Thu, 14 Jul 2022</td> <th>  Prob (F-statistic):</th> <td>1.10e-15</td>\n",
       "</tr>\n",
       "<tr>\n",
       "  <th>Time:</th>                 <td>17:42:51</td>     <th>  Log-Likelihood:    </th> <td>  705.58</td>\n",
       "</tr>\n",
       "<tr>\n",
       "  <th>No. Observations:</th>      <td>   203</td>      <th>  AIC:               </th> <td>  -1405.</td>\n",
       "</tr>\n",
       "<tr>\n",
       "  <th>Df Residuals:</th>          <td>   200</td>      <th>  BIC:               </th> <td>  -1395.</td>\n",
       "</tr>\n",
       "<tr>\n",
       "  <th>Df Model:</th>              <td>     2</td>      <th>                     </th>     <td> </td>   \n",
       "</tr>\n",
       "<tr>\n",
       "  <th>Covariance Type:</th>      <td>nonrobust</td>    <th>                     </th>     <td> </td>   \n",
       "</tr>\n",
       "</table>\n",
       "<table class=\"simpletable\">\n",
       "<tr>\n",
       "    <td></td>       <th>coef</th>     <th>std err</th>      <th>t</th>      <th>P>|t|</th>  <th>[0.025</th>    <th>0.975]</th>  \n",
       "</tr>\n",
       "<tr>\n",
       "  <th>const</th> <td>    0.0062</td> <td>    0.001</td> <td>    8.099</td> <td> 0.000</td> <td>    0.005</td> <td>    0.008</td>\n",
       "</tr>\n",
       "<tr>\n",
       "  <th>dpi</th>   <td>    0.3176</td> <td>    0.064</td> <td>    4.934</td> <td> 0.000</td> <td>    0.191</td> <td>    0.444</td>\n",
       "</tr>\n",
       "<tr>\n",
       "  <th>unemp</th> <td>   -0.0399</td> <td>    0.008</td> <td>   -5.323</td> <td> 0.000</td> <td>   -0.055</td> <td>   -0.025</td>\n",
       "</tr>\n",
       "</table>\n",
       "<table class=\"simpletable\">\n",
       "<tr>\n",
       "  <th>Omnibus:</th>       <td>89.203</td> <th>  Durbin-Watson:     </th> <td>   2.469</td> \n",
       "</tr>\n",
       "<tr>\n",
       "  <th>Prob(Omnibus):</th> <td> 0.000</td> <th>  Jarque-Bera (JB):  </th> <td>1037.771</td> \n",
       "</tr>\n",
       "<tr>\n",
       "  <th>Skew:</th>          <td>-1.315</td> <th>  Prob(JB):          </th> <td>4.48e-226</td>\n",
       "</tr>\n",
       "<tr>\n",
       "  <th>Kurtosis:</th>      <td>13.760</td> <th>  Cond. No.          </th> <td>    122.</td> \n",
       "</tr>\n",
       "</table><br/><br/>Notes:<br/>[1] Standard Errors assume that the covariance matrix of the errors is correctly specified."
      ],
      "text/plain": [
       "<class 'statsmodels.iolib.summary.Summary'>\n",
       "\"\"\"\n",
       "                            OLS Regression Results                            \n",
       "==============================================================================\n",
       "Dep. Variable:            consumption   R-squared:                       0.291\n",
       "Model:                            OLS   Adj. R-squared:                  0.284\n",
       "Method:                 Least Squares   F-statistic:                     41.11\n",
       "Date:                Thu, 14 Jul 2022   Prob (F-statistic):           1.10e-15\n",
       "Time:                        17:42:51   Log-Likelihood:                 705.58\n",
       "No. Observations:                 203   AIC:                            -1405.\n",
       "Df Residuals:                     200   BIC:                            -1395.\n",
       "Df Model:                           2                                         \n",
       "Covariance Type:            nonrobust                                         \n",
       "==============================================================================\n",
       "                 coef    std err          t      P>|t|      [0.025      0.975]\n",
       "------------------------------------------------------------------------------\n",
       "const          0.0062      0.001      8.099      0.000       0.005       0.008\n",
       "dpi            0.3176      0.064      4.934      0.000       0.191       0.444\n",
       "unemp         -0.0399      0.008     -5.323      0.000      -0.055      -0.025\n",
       "==============================================================================\n",
       "Omnibus:                       89.203   Durbin-Watson:                   2.469\n",
       "Prob(Omnibus):                  0.000   Jarque-Bera (JB):             1037.771\n",
       "Skew:                          -1.315   Prob(JB):                    4.48e-226\n",
       "Kurtosis:                      13.760   Cond. No.                         122.\n",
       "==============================================================================\n",
       "\n",
       "Notes:\n",
       "[1] Standard Errors assume that the covariance matrix of the errors is correctly specified.\n",
       "\"\"\""
      ]
     },
     "execution_count": 68,
     "metadata": {},
     "output_type": "execute_result"
    }
   ],
   "source": [
    "model = sm.OLS(y, X).fit()\n",
    "predictions = model.predict(X) # make the predictions by the model\n",
    "\n",
    "# Print out the statistics\n",
    "model.summary()\n",
    "\n",
    "# Note that regression coefficients, standard errors, t-statistics, and p-values \n",
    "# match given values from the coding exercise.\n",
    "# The R-squared result of 33.5% does not indicate a good fit."
   ]
  },
  {
   "cell_type": "code",
   "execution_count": 69,
   "id": "cf61dff7",
   "metadata": {},
   "outputs": [
    {
     "data": {
      "text/plain": [
       "0.29135603560658974"
      ]
     },
     "execution_count": 69,
     "metadata": {},
     "output_type": "execute_result"
    }
   ],
   "source": [
    "# Now fit using scikit-learn\n",
    "reg = LinearRegression().fit(X, y)\n",
    "reg.score(X, y)\n",
    "# 29.1% matches the statmodels result"
   ]
  },
  {
   "cell_type": "code",
   "execution_count": 70,
   "id": "afa27078",
   "metadata": {},
   "outputs": [
    {
     "data": {
      "text/plain": [
       "array([[ 0.        ,  0.31757389, -0.0399227 ]])"
      ]
     },
     "execution_count": 70,
     "metadata": {},
     "output_type": "execute_result"
    }
   ],
   "source": [
    "reg.coef_\n",
    "# Coefficients match statmodels and coding exercise results"
   ]
  },
  {
   "cell_type": "code",
   "execution_count": 71,
   "id": "fd352049",
   "metadata": {},
   "outputs": [
    {
     "data": {
      "text/plain": [
       "array([0.00619107])"
      ]
     },
     "execution_count": 71,
     "metadata": {},
     "output_type": "execute_result"
    }
   ],
   "source": [
    "reg.intercept_\n",
    "# Intercept matches statmodels and coding exercise results\n"
   ]
  },
  {
   "cell_type": "code",
   "execution_count": 72,
   "id": "70d0adea",
   "metadata": {},
   "outputs": [],
   "source": [
    "# Conclusions for Task 1: \n",
    "# Results of the regression estimation using own implementations verify\n",
    "# Regression accuracy evaluation: Accuracy is low as indicated by the 33.5% R-squared"
   ]
  },
  {
   "cell_type": "code",
   "execution_count": 73,
   "id": "7cff30a5",
   "metadata": {},
   "outputs": [
    {
     "data": {
      "image/png": "[encoded data removed]",
      "text/plain": [
       "<Figure size 432x288 with 1 Axes>"
      ]
     },
     "metadata": {
      "needs_background": "light"
     },
     "output_type": "display_data"
    }
   ],
   "source": [
    "# Task 2: Outlier Detections\n",
    "# Examine the time series of residuals\n",
    "predictions = reg.predict(X)\n",
    "residuals = (y - predictions)\n",
    "\n",
    "# Plot the residuals time series\n",
    "fig, ax = plt.subplots()\n",
    "ax.plot(residuals)\n",
    "plt.show()"
   ]
  },
  {
   "cell_type": "code",
   "execution_count": 74,
   "id": "e7d37bcf",
   "metadata": {},
   "outputs": [
    {
     "name": "stdout",
     "output_type": "stream",
     "text": [
      "-0.0037726254742414846 -0.00010900747153463203 0.004023615554931867 0.007796241029173352 -0.015466987018001511 0.015717977098691896\n"
     ]
    }
   ],
   "source": [
    "# Use Tukeys test\n",
    "Q1 = np.percentile(residuals, 25, interpolation = 'midpoint')  # First quartile (Q1)\n",
    "Q2 = np.percentile(residuals, 50, interpolation = 'midpoint')  # Median (Q2)\n",
    "Q3 = np.percentile(residuals, 75, interpolation = 'midpoint')  # Third quartile (Q3)\n",
    "IQR = Q3 - Q1  # Interquaritle range (IQR)\n",
    "Tlower = Q1 - 1.5*IQR  # Tukey lower bound\n",
    "Tupper = Q3 + 1.5*IQR  # Tukey upper bound\n",
    "print(Q1, Q2, Q3, IQR, Tlower, Tupper)"
   ]
  },
  {
   "cell_type": "code",
   "execution_count": 75,
   "id": "9623723c",
   "metadata": {},
   "outputs": [
    {
     "name": "stdout",
     "output_type": "stream",
     "text": [
      "3 2 203\n"
     ]
    }
   ],
   "source": [
    "# Counts of outliers\n",
    "r = np.array(residuals)  # Use numpy array for count functionality\n",
    "l = np.count_nonzero(r < Tlower)  # Count of lower outliers\n",
    "u = np.count_nonzero(r > Tupper)  # Count of upper outliers\n",
    "n = len(r)  # number of elements in the dataset\n",
    "print(l, u, n)"
   ]
  },
  {
   "cell_type": "code",
   "execution_count": 76,
   "id": "efddc419",
   "metadata": {},
   "outputs": [],
   "source": [
    "# Conclusions for Task 2\n",
    "# There are 5 outliers in the dataset with 203 elements, representing 2.4% of the data\n",
    "# The outliers are balanced upper side and lower: 2 upper and 3 lower.\n",
    "# All 5 outliers occur at the beginning of the dataset\n",
    "\n",
    "# The cause of this problem is that consumption and dpi figures increase exponentially \n",
    "# over the 50 year period, and so differences between quarters grow over time.\n",
    "# It is more appropriate to do the analysis with log returns or percent returns\n",
    "# rather than differences, in order to remove this bias."
   ]
  },
  {
   "cell_type": "code",
   "execution_count": 77,
   "id": "112d0c3a",
   "metadata": {},
   "outputs": [
    {
     "name": "stdout",
     "output_type": "stream",
     "text": [
      "2.4692581187985394\n"
     ]
    }
   ],
   "source": [
    "# Test 3: Autocorrelation of Residuals\n",
    "# Calculate the Durbin-Watson (DW) statistic of the residuals\n",
    "\n",
    "# Quarterly differences of residuals\n",
    "dresiduals = (residuals - residuals.shift())[1:]\n",
    "\n",
    "ssd = (dresiduals**2).sum()  # Sum of squares of residual differences\n",
    "ssr = (residuals**2).sum()   # Sum of the squared residuals\n",
    "\n",
    "# DW statistic\n",
    "DW = float( ssd / ssr )\n",
    "print(DW)"
   ]
  },
  {
   "cell_type": "code",
   "execution_count": 78,
   "id": "94f02d43",
   "metadata": {},
   "outputs": [],
   "source": [
    "# Conclusions for Test 3\n",
    "# The value of 2.47 is above 2, which indicates negative autocorrelation.\n",
    "# However, values between 1.5 and 2.5 are considered acceptable.\n",
    "# Therefore, autocorrelation in the residuals does not lead to significant\n",
    "# undervaluation of the standard error in this analysis."
   ]
  },
  {
   "cell_type": "code",
   "execution_count": 79,
   "id": "9478fdfb",
   "metadata": {},
   "outputs": [
    {
     "name": "stdout",
     "output_type": "stream",
     "text": [
      "0.0074861185162734285\n"
     ]
    }
   ],
   "source": [
    "# Task 4: Bootstapping of Standard Errors\n",
    "# Recalculate the standard errors of the regression coefficients using bootstrapping.\n",
    "\n",
    "# Standard error is defined as the square root of the sum of the squares of the residuals\n",
    "# divided by the number of samples\n",
    "\n",
    "# Standard error for the current dataset\n",
    "SE = float( math.sqrt(ssr / n) )\n",
    "print(SE)"
   ]
  },
  {
   "cell_type": "code",
   "execution_count": 80,
   "id": "31640cd8",
   "metadata": {},
   "outputs": [
    {
     "data": {
      "image/png": "[encoded data removed]",
      "text/plain": [
       "<Figure size 432x288 with 1 Axes>"
      ]
     },
     "metadata": {
      "needs_background": "light"
     },
     "output_type": "display_data"
    }
   ],
   "source": [
    "# Generate bootstrap samples and calculate standard errors\n",
    "from sklearn.utils import resample\n",
    "n_bootstraps = 10000\n",
    "sample_SEs = []\n",
    "\n",
    "for _ in range(n_bootstraps):\n",
    "    boot = resample(residuals, replace=True)\n",
    "    ssr = (boot**2).sum()     # Sum of the squared residuals\n",
    "    sse = math.sqrt(ssr / n)  # Sample standard error\n",
    "    sample_SEs.append(sse)    # Append to output array\n",
    "    \n",
    "sample_SEs = np.array(sample_SEs)  # Use numpy array for stats functionality\n",
    "mean_SEs = sample_SEs.mean()\n",
    "\n",
    "# Histogram the bootstrapped standard errors\n",
    "fig, ax = plt.subplots()\n",
    "ax.hist(sample_SEs)\n",
    "plt.show()"
   ]
  },
  {
   "cell_type": "code",
   "execution_count": 81,
   "id": "93e68dc2",
   "metadata": {},
   "outputs": [
    {
     "name": "stdout",
     "output_type": "stream",
     "text": [
      "0.0074861185162734285 0.007420221603023956\n"
     ]
    },
    {
     "data": {
      "text/plain": [
       "(0.007401960177713567, 0.0074384830283343445)"
      ]
     },
     "execution_count": 81,
     "metadata": {},
     "output_type": "execute_result"
    }
   ],
   "source": [
    "sample_SEs = np.array(sample_SEs)  # Use numpy array for stats functionality\n",
    "mean_SEs = sample_SEs.mean()\n",
    "\n",
    "print(SE, mean_SEs)\n",
    "\n",
    "# According to the Central Limit theorem, the distribution is expected to tend to a normal\n",
    "# as the sample size increase, and indeed this distribution appears normal.\n",
    "\n",
    "# According to Michael Grogan, https://medium.com/p/b112bb4a969e, \"a primary use of \n",
    "# bootstrapping is to estimate the confidence interval of the population mean.\"\n",
    "# \n",
    "sms.DescrStatsW(sample_SEs).tconfint_mean()\n"
   ]
  }
 ],
 "metadata": {
  "kernelspec": {
   "display_name": "Python 3 (ipykernel)",
   "language": "python",
   "name": "python3"
  },
  "language_info": {
   "codemirror_mode": {
    "name": "ipython",
    "version": 3
   },
   "file_extension": ".py",
   "mimetype": "text/x-python",
   "name": "python",
   "nbconvert_exporter": "python",
   "pygments_lexer": "ipython3",
   "version": "3.9.7"
  }
 },
 "nbformat": 4,
 "nbformat_minor": 5
}
